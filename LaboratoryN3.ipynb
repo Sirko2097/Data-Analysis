{
 "cells": [
  {
   "cell_type": "code",
   "execution_count": 1,
   "metadata": {},
   "outputs": [],
   "source": [
    "import numpy as np\n",
    "import scipy\n",
    "import scipy.stats\n",
    "import pprint"
   ]
  },
  {
   "cell_type": "code",
   "execution_count": 2,
   "metadata": {},
   "outputs": [],
   "source": [
    "alpha = 0.95\n",
    "N = 13"
   ]
  },
  {
   "cell_type": "code",
   "execution_count": 3,
   "metadata": {},
   "outputs": [],
   "source": [
    "runif = scipy.stats.uniform(0, 1)"
   ]
  },
  {
   "cell_type": "markdown",
   "metadata": {},
   "source": [
    "# 1)Однофакторний аналіз"
   ]
  },
  {
   "cell_type": "code",
   "execution_count": 4,
   "metadata": {},
   "outputs": [],
   "source": [
    "A = np.array([\n",
    "    N + runif.rvs(size=1000),\n",
    "    0.5 * N + runif.rvs(size=1000),\n",
    "    0.8 * N + runif.rvs(size=1000),\n",
    "    1.4 * N + runif.rvs(size=1000),\n",
    "    2.0 * N + runif.rvs(size=1000)\n",
    "])"
   ]
  },
  {
   "cell_type": "code",
   "execution_count": 5,
   "metadata": {},
   "outputs": [],
   "source": [
    "Si_2 = A.var(ddof=1, axis=1)"
   ]
  },
  {
   "cell_type": "code",
   "execution_count": 6,
   "metadata": {},
   "outputs": [
    {
     "name": "stdout",
     "output_type": "stream",
     "text": [
      "[[0.08113958]\n",
      " [0.08452239]\n",
      " [0.08196822]\n",
      " [0.08022293]\n",
      " [0.08029457]]\n"
     ]
    }
   ],
   "source": [
    "print(Si_2.reshape((-1, 1)))"
   ]
  },
  {
   "cell_type": "code",
   "execution_count": 7,
   "metadata": {},
   "outputs": [],
   "source": [
    "g = np.max(Si_2) / np.sum(Si_2)"
   ]
  },
  {
   "cell_type": "code",
   "execution_count": 8,
   "metadata": {},
   "outputs": [
    {
     "name": "stdout",
     "output_type": "stream",
     "text": [
      "k =  5\n",
      "n =  1000\n"
     ]
    }
   ],
   "source": [
    "# Змінні для роботи з таблицею\n",
    "k = A.shape[0]\n",
    "n = A.shape[1]\n",
    "print(\"k = \", k)\n",
    "print(\"n = \" ,n)"
   ]
  },
  {
   "cell_type": "code",
   "execution_count": 9,
   "metadata": {},
   "outputs": [],
   "source": [
    "g_alpha = 0.3"
   ]
  },
  {
   "cell_type": "code",
   "execution_count": 10,
   "metadata": {},
   "outputs": [
    {
     "name": "stdout",
     "output_type": "stream",
     "text": [
      "Нема підстав відхилити нульову гіпотезу.\n"
     ]
    }
   ],
   "source": [
    "if (g > g_alpha):\n",
    "    print(\"Нульова гіпотеза про рівність дисперсій відхиляється.\")\n",
    "else:\n",
    "    print(\"Нема підстав відхилити нульову гіпотезу.\")"
   ]
  },
  {
   "cell_type": "code",
   "execution_count": 11,
   "metadata": {},
   "outputs": [],
   "source": [
    "S0_2 = (np.sum(np.sum(A ** 2, axis=1), axis=0) - np.sum(np.sum(A, axis=1) ** 2, axis=0) / n) / (k * (n - 1))"
   ]
  },
  {
   "cell_type": "code",
   "execution_count": 12,
   "metadata": {},
   "outputs": [],
   "source": [
    "S_2 = (\n",
    "    np.sum(np.sum(A ** 2, axis=1), axis=0) - np.sum(np.sum(A, axis=1), axis=0) ** 2 / (k * n)\n",
    ") / (k * n - 1)"
   ]
  },
  {
   "cell_type": "code",
   "execution_count": 13,
   "metadata": {},
   "outputs": [],
   "source": [
    "x_ = np.sum(A, axis=1) / n"
   ]
  },
  {
   "cell_type": "code",
   "execution_count": 14,
   "metadata": {},
   "outputs": [],
   "source": [
    "x__ = np.sum(x_, axis=0) / k"
   ]
  },
  {
   "cell_type": "code",
   "execution_count": 15,
   "metadata": {},
   "outputs": [],
   "source": [
    "SA_2 = n * (\n",
    "    np.sum((x_ - x__) ** 2, axis=0)\n",
    ") / (k - 1)"
   ]
  },
  {
   "cell_type": "code",
   "execution_count": 16,
   "metadata": {},
   "outputs": [],
   "source": [
    "F_alpha = 2"
   ]
  },
  {
   "cell_type": "code",
   "execution_count": 17,
   "metadata": {},
   "outputs": [
    {
     "name": "stdout",
     "output_type": "stream",
     "text": [
      "Значущий вплив\n"
     ]
    }
   ],
   "source": [
    "if (SA_2 / S0_2 > F_alpha):\n",
    "    print(\"Значущий вплив\")\n",
    "else:\n",
    "    print(\"Вплив не значущий\")"
   ]
  },
  {
   "cell_type": "markdown",
   "metadata": {},
   "source": [
    "# 2)Двофакторний аналіз"
   ]
  },
  {
   "cell_type": "code",
   "execution_count": 18,
   "metadata": {},
   "outputs": [],
   "source": [
    "A = np.array([\n",
    "    [\n",
    "        1.0 * N + runif.rvs(100), \n",
    "        3.5 * N + runif.rvs(100), \n",
    "        3.8 * N + runif.rvs(100), \n",
    "        1.4 * N + runif.rvs(100), \n",
    "        2.0 * N + runif.rvs(100)\n",
    "    ],\n",
    "    [\n",
    "        1.0 * N + runif.rvs(100), \n",
    "        2.5 * N + runif.rvs(100), \n",
    "        2.8 * N + runif.rvs(100), \n",
    "        2.4 * N + runif.rvs(100), \n",
    "        3.0 * N + runif.rvs(100)\n",
    "    ],\n",
    "    [\n",
    "        1.0 * N + runif.rvs(100), \n",
    "        1.5 * N + runif.rvs(100), \n",
    "        1.8 * N + runif.rvs(100), \n",
    "        3.4 * N + runif.rvs(100), \n",
    "        4.0 * N + runif.rvs(100)\n",
    "    ],\n",
    "    [\n",
    "        1.0 * N + runif.rvs(100), \n",
    "        0.5 * N + runif.rvs(100), \n",
    "        0.8 * N + runif.rvs(100), \n",
    "        4.4 * N + runif.rvs(100), \n",
    "        5.0 * N + runif.rvs(100)\n",
    "    ]\n",
    "])"
   ]
  },
  {
   "cell_type": "code",
   "execution_count": 19,
   "metadata": {},
   "outputs": [],
   "source": [
    "# середнє значення в клітинці\n",
    "x = np.mean(A, axis=2)"
   ]
  },
  {
   "cell_type": "code",
   "execution_count": 20,
   "metadata": {},
   "outputs": [],
   "source": [
    "Q1 = np.sum(np.sum(x ** 2, axis=1), axis=0)"
   ]
  },
  {
   "cell_type": "code",
   "execution_count": 21,
   "metadata": {},
   "outputs": [],
   "source": [
    "Xj = np.sum(x, axis=1)\n",
    "Xi = np.sum(x.T, axis=1)"
   ]
  },
  {
   "cell_type": "code",
   "execution_count": 22,
   "metadata": {},
   "outputs": [],
   "source": [
    "#робота з таблицею\n",
    "n = 100\n",
    "m = 4\n",
    "k = 5"
   ]
  },
  {
   "cell_type": "code",
   "execution_count": 23,
   "metadata": {},
   "outputs": [],
   "source": [
    "Q2 = np.sum(Xi ** 2, axis=0) / m\n",
    "Q3 = np.sum(Xj ** 2, axis=0) / k\n",
    "Q4 = (np.sum(Xj) ** 2) / (m * k)"
   ]
  },
  {
   "cell_type": "code",
   "execution_count": 24,
   "metadata": {},
   "outputs": [],
   "source": [
    "S0_2 = (Q1 + Q4 - Q2 - Q3) / ((k - 1) * (m - 1))\n",
    "SA_2 = (Q2 - Q4) / (k - 1)\n",
    "SB_2 = (Q3 - Q4) / (m - 1)"
   ]
  },
  {
   "cell_type": "code",
   "execution_count": 25,
   "metadata": {},
   "outputs": [],
   "source": [
    "F = 5.41"
   ]
  },
  {
   "cell_type": "code",
   "execution_count": 26,
   "metadata": {},
   "outputs": [
    {
     "name": "stdout",
     "output_type": "stream",
     "text": [
      "Фактор не є значущим\n"
     ]
    }
   ],
   "source": [
    "if SA_2 / S0_2 > F:\n",
    "    print(\"Фактор є значущим\")\n",
    "else:\n",
    "    print(\"Фактор не є значущим\")"
   ]
  },
  {
   "cell_type": "code",
   "execution_count": 27,
   "metadata": {},
   "outputs": [
    {
     "name": "stdout",
     "output_type": "stream",
     "text": [
      "Фактор не є значущим\n"
     ]
    }
   ],
   "source": [
    "if SB_2 / S0_2 > F:\n",
    "    print(\"Фактор є значущим\")\n",
    "else:\n",
    "    print(\"Фактор не є значущим\")"
   ]
  },
  {
   "cell_type": "code",
   "execution_count": 28,
   "metadata": {},
   "outputs": [],
   "source": [
    "Q5 = np.sum(A ** 2)"
   ]
  },
  {
   "cell_type": "code",
   "execution_count": 29,
   "metadata": {},
   "outputs": [],
   "source": [
    "SAB_2 = (Q5 - n * Q1) / (m * k * (n - 1))"
   ]
  },
  {
   "cell_type": "code",
   "execution_count": 30,
   "metadata": {},
   "outputs": [],
   "source": [
    "F = 3.51"
   ]
  },
  {
   "cell_type": "code",
   "execution_count": 31,
   "metadata": {},
   "outputs": [
    {
     "name": "stdout",
     "output_type": "stream",
     "text": [
      "Взаємодія факторів А і В є значуща\n"
     ]
    }
   ],
   "source": [
    "if (n * S0_2) / SAB_2 > F:\n",
    "    print(\"Взаємодія факторів А і В є значуща\")\n",
    "else:\n",
    "    print(\"Взаємодія факторів А і В не є значущою\")"
   ]
  }
 ],
 "metadata": {
  "kernelspec": {
   "display_name": "Python 3",
   "language": "python",
   "name": "python3"
  },
  "language_info": {
   "codemirror_mode": {
    "name": "ipython",
    "version": 3
   },
   "file_extension": ".py",
   "mimetype": "text/x-python",
   "name": "python",
   "nbconvert_exporter": "python",
   "pygments_lexer": "ipython3",
   "version": "3.6.4"
  }
 },
 "nbformat": 4,
 "nbformat_minor": 2
}
