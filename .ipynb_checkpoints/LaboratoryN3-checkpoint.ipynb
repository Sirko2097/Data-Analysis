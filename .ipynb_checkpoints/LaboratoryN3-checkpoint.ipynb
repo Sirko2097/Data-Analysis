{
 "cells": [
  {
   "cell_type": "code",
   "execution_count": 1,
   "metadata": {},
   "outputs": [],
   "source": [
    "import numpy as np\n",
    "import scipy\n",
    "import scipy.stats\n",
    "import pprint"
   ]
  },
  {
   "cell_type": "code",
   "execution_count": 2,
   "metadata": {},
   "outputs": [],
   "source": [
    "alpha = 0.95\n",
    "N = 13"
   ]
  },
  {
   "cell_type": "code",
   "execution_count": 3,
   "metadata": {},
   "outputs": [],
   "source": [
    "runif = scipy.stats.uniform(0, 1)"
   ]
  },
  {
   "cell_type": "markdown",
   "metadata": {},
   "source": [
    "# 1)Однофакторний аналіз"
   ]
  },
  {
   "cell_type": "code",
   "execution_count": 5,
   "metadata": {},
   "outputs": [],
   "source": [
    "A = np.array([\n",
    "    N + runif.rvs(size=1000),\n",
    "    0.5 * N + runif.rvs(size=1000),\n",
    "    0.8 * N + runif.rvs(size=1000),\n",
    "    1.4 * N + runif.rvs(size=1000),\n",
    "    2.0 * N + runif.rvs(size=1000)\n",
    "])"
   ]
  },
  {
   "cell_type": "code",
   "execution_count": 6,
   "metadata": {},
   "outputs": [],
   "source": [
    "Si_2 = A.var(ddof=1, axis=1)"
   ]
  },
  {
   "cell_type": "code",
   "execution_count": 7,
   "metadata": {},
   "outputs": [
    {
     "name": "stdout",
     "output_type": "stream",
     "text": [
      "[[0.08088906]\n",
      " [0.08459113]\n",
      " [0.0856536 ]\n",
      " [0.08092681]\n",
      " [0.08415423]]\n"
     ]
    }
   ],
   "source": [
    "print(Si_2.reshape((-1, 1)))"
   ]
  },
  {
   "cell_type": "code",
   "execution_count": 8,
   "metadata": {},
   "outputs": [],
   "source": [
    "g = np.max(Si_2) / np.sum(Si_2)"
   ]
  },
  {
   "cell_type": "code",
   "execution_count": 14,
   "metadata": {},
   "outputs": [
    {
     "name": "stdout",
     "output_type": "stream",
     "text": [
      "k =  5\n",
      "n =  1000\n"
     ]
    }
   ],
   "source": [
    "# Змінні для роботи з таблицею\n",
    "k = A.shape[0]\n",
    "n = A.shape[1]\n",
    "print(\"k = \", k)\n",
    "print(\"n = \" ,n)"
   ]
  },
  {
   "cell_type": "code",
   "execution_count": 9,
   "metadata": {},
   "outputs": [],
   "source": [
    "g_alpha = 0.3"
   ]
  },
  {
   "cell_type": "code",
   "execution_count": 10,
   "metadata": {},
   "outputs": [
    {
     "name": "stdout",
     "output_type": "stream",
     "text": [
      "Нема підстав відхилити нульову гіпотезу.\n"
     ]
    }
   ],
   "source": [
    "if (g > g_alpha):\n",
    "    print(\"Нульова гіпотеза про рівність дисперсій відхиляється.\")\n",
    "else:\n",
    "    print(\"Нема підстав відхилити нульову гіпотезу.\")"
   ]
  },
  {
   "cell_type": "code",
   "execution_count": 15,
   "metadata": {},
   "outputs": [],
   "source": [
    "S0_2 = (np.sum(np.sum(A ** 2, axis=1), axis=0) - np.sum(np.sum(A, axis=1) ** 2, axis=0) / n) / (k * (n - 1))"
   ]
  },
  {
   "cell_type": "code",
   "execution_count": 17,
   "metadata": {},
   "outputs": [],
   "source": [
    "S_2 = (\n",
    "    np.sum(np.sum(A ** 2, axis=1), axis=0) - np.sum(np.sum(A, axis=1), axis=0) ** 2 / (k * n)\n",
    ") / (k * n - 1)"
   ]
  },
  {
   "cell_type": "code",
   "execution_count": 18,
   "metadata": {},
   "outputs": [],
   "source": [
    "x_ = np.sum(A, axis=1) / n"
   ]
  },
  {
   "cell_type": "code",
   "execution_count": 19,
   "metadata": {},
   "outputs": [],
   "source": [
    "x__ = np.sum(x_, axis=0) / k"
   ]
  },
  {
   "cell_type": "code",
   "execution_count": 20,
   "metadata": {},
   "outputs": [],
   "source": [
    "SA_2 = n * (\n",
    "    np.sum((x_ - x__) ** 2, axis=0)\n",
    ") / (k - 1)"
   ]
  },
  {
   "cell_type": "code",
   "execution_count": 21,
   "metadata": {},
   "outputs": [],
   "source": [
    "F = 2"
   ]
  },
  {
   "cell_type": "code",
   "execution_count": 22,
   "metadata": {},
   "outputs": [
    {
     "name": "stdout",
     "output_type": "stream",
     "text": [
      "Значущий вплив\n"
     ]
    }
   ],
   "source": [
    "if (SA_2 / S0_2 > F):\n",
    "    print(\"Значущий вплив\")\n",
    "else:\n",
    "    print(\"Вплив не значущий\")"
   ]
  },
  {
   "cell_type": "code",
   "execution_count": null,
   "metadata": {},
   "outputs": [],
   "source": []
  }
 ],
 "metadata": {
  "kernelspec": {
   "display_name": "Python 3",
   "language": "python",
   "name": "python3"
  },
  "language_info": {
   "codemirror_mode": {
    "name": "ipython",
    "version": 3
   },
   "file_extension": ".py",
   "mimetype": "text/x-python",
   "name": "python",
   "nbconvert_exporter": "python",
   "pygments_lexer": "ipython3",
   "version": "3.6.4"
  }
 },
 "nbformat": 4,
 "nbformat_minor": 2
}
